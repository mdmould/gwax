{
 "cells": [
  {
   "cell_type": "markdown",
   "id": "183d7940-8f2c-47b3-a007-b9ea4f94a57d",
   "metadata": {},
   "source": [
    "## Download GWTC-3 parameter-estimation samples and sensitivty injections"
   ]
  },
  {
   "cell_type": "code",
   "execution_count": null,
   "id": "2be3b5d8-8a84-4f18-acb2-8da330c21251",
   "metadata": {},
   "outputs": [],
   "source": [
    "# !wget https://zenodo.org/records/11254021/files/analyses_PowerLawPeak.tar.gz\n",
    "# !tar -xzvf analyses_PowerLawPeak.tar.gz\n",
    "# !mv ./analyses/PowerLawPeak/o1o2o3_mass_c_iid_mag_iid_tilt_powerlaw_redshift_samples.hdf5 .\n",
    "# !rm -r analyses\n",
    "# !wget https://zenodo.org/records/7890398/files/o1+o2+o3_bbhpop_real+semianalytic-LIGO-T2100377-v2.hdf5"
   ]
  },
  {
   "cell_type": "code",
   "execution_count": 1,
   "id": "f1573723-c462-4025-bf98-1e893c0aea1d",
   "metadata": {},
   "outputs": [
    {
     "name": "stdout",
     "output_type": "stream",
     "text": [
      "\u001b[0m\u001b[01;31manalyses_PowerLawPeak.tar.gz\u001b[0m\n",
      "o1+o2+o3_bbhpop_real+semianalytic-LIGO-T2100377-v2.hdf5\n",
      "o1o2o3_mass_c_iid_mag_iid_tilt_powerlaw_redshift_samples.hdf5\n",
      "variational.ipynb\n"
     ]
    }
   ],
   "source": [
    "ls"
   ]
  },
  {
   "cell_type": "markdown",
   "id": "39437a0f-a7e9-4ca5-9eaf-53426a9baa24",
   "metadata": {},
   "source": [
    "## Imports"
   ]
  },
  {
   "cell_type": "code",
   "execution_count": 2,
   "id": "5598c80a-bfee-4a50-a621-bd0d72a1a295",
   "metadata": {},
   "outputs": [],
   "source": [
    "import numpy as np\n",
    "import pandas\n",
    "import h5py\n",
    "import json\n",
    "import matplotlib.pyplot as plt\n",
    "from corner import corner"
   ]
  },
  {
   "cell_type": "code",
   "execution_count": 3,
   "id": "1e697706-decc-429a-a3b8-e8ae1123b0f3",
   "metadata": {},
   "outputs": [],
   "source": [
    "import os\n",
    "os.environ['CUDA_VISIBLE_DEVICES'] = '1'\n",
    "\n",
    "import jax\n",
    "jax.config.update('jax_enable_x64', True)\n",
    "\n",
    "import gwpopulation\n",
    "gwpopulation.set_backend('jax')\n",
    "from gwpopulation.utils import xp"
   ]
  },
  {
   "cell_type": "markdown",
   "id": "2086bf9c-aa0e-46f4-8ee9-94ffb9c5a037",
   "metadata": {},
   "source": [
    "## Load the data"
   ]
  },
  {
   "cell_type": "code",
   "execution_count": 4,
   "id": "5793fc42-d514-46c2-b9cb-944089beabf6",
   "metadata": {},
   "outputs": [],
   "source": [
    "def load_posteriors():\n",
    "    posteriors = []\n",
    "    \n",
    "    with h5py.File(\n",
    "        './o1o2o3_mass_c_iid_mag_iid_tilt_powerlaw_redshift_samples.hdf5', 'r',\n",
    "    ) as f:\n",
    "\n",
    "        samples = f['original']\n",
    "        num_obs, num_samples = samples['a_1'].shape\n",
    "        \n",
    "        for n in range(num_obs):\n",
    "            posterior = pandas.DataFrame()\n",
    "            for par in samples:\n",
    "                posterior[par] = samples[par][n, :]\n",
    "\n",
    "            posteriors.append(posterior)\n",
    "    \n",
    "    return posteriors"
   ]
  },
  {
   "cell_type": "code",
   "execution_count": 5,
   "id": "b1915c66-863e-4880-b82f-72cad82ff74c",
   "metadata": {},
   "outputs": [],
   "source": [
    "def load_injections():\n",
    "    cut_far = 1.0\n",
    "    cut_snr = 10.0\n",
    "    \n",
    "    injections = {}\n",
    "    \n",
    "    with h5py.File(\n",
    "        './o1+o2+o3_bbhpop_real+semianalytic-LIGO-T2100377-v2.hdf5', 'r',\n",
    "    ) as f:\n",
    "        samples = f['injections']\n",
    "    \n",
    "        ifars = [\n",
    "            samples[par][:] for par in samples.keys()\n",
    "            if ('ifar' in par) and ('cwb' not in par)\n",
    "            ]\n",
    "        ifar = np.max(ifars, axis=0)\n",
    "        snr = samples['optimal_snr_net'][:]\n",
    "        runs = samples['name'][:].astype(str)\n",
    "        found = np.where(runs == 'o3', ifar > 1/cut_far, snr > cut_snr)\n",
    "    \n",
    "        mass_1 = samples['mass1_source'][:][found]\n",
    "        mass_2 = samples['mass2_source'][:][found]\n",
    "        spin1x = samples['spin1x'][:][found]\n",
    "        spin1y = samples['spin1y'][:][found]\n",
    "        spin1z = samples['spin1z'][:][found]\n",
    "        spin2x = samples['spin2x'][:][found]\n",
    "        spin2y = samples['spin2y'][:][found]\n",
    "        spin2z = samples['spin2z'][:][found]\n",
    "        redshift = samples['redshift'][:][found]\n",
    "    \n",
    "        mass_ratio = mass_2 / mass_1\n",
    "        a_1 = (spin1x**2 + spin1y**2 + spin1z**2)**.5\n",
    "        a_2 = (spin2x**2 + spin2y**2 + spin2z**2)**.5\n",
    "        cos_tilt_1 = spin1z / a_1\n",
    "        cos_tilt_2 = spin2z / a_2\n",
    "    \n",
    "        injections['mass_1'] = mass_1\n",
    "        injections['mass_ratio'] = mass_ratio\n",
    "        injections['a_1'] = a_1\n",
    "        injections['a_2'] = a_2\n",
    "        injections['cos_tilt_1'] = cos_tilt_1\n",
    "        injections['cos_tilt_2'] = cos_tilt_2\n",
    "        injections['redshift'] = redshift\n",
    "    \n",
    "        prior = samples['sampling_pdf'][:][found]\n",
    "        prior *= mass_1 * 4 * np.pi**2 * a_1**2 * a_2**2\n",
    "        injections['prior'] = prior\n",
    "    \n",
    "        dodgy = injections['redshift'] > 1.9\n",
    "        for par in injections:\n",
    "            injections[par] = injections[par][~dodgy]\n",
    "    \n",
    "        injections['total_generated'] = samples.attrs['total_generated']\n",
    "    \n",
    "    for par in injections:\n",
    "        injections[par] = xp.array(injections[par])\n",
    "    \n",
    "    return injections"
   ]
  },
  {
   "cell_type": "code",
   "execution_count": 6,
   "id": "3a8af646-fa73-4195-9997-9c352e0bbf13",
   "metadata": {},
   "outputs": [
    {
     "name": "stderr",
     "output_type": "stream",
     "text": [
      "2024-07-15 19:59:33.527823: W external/xla/xla/service/gpu/nvptx_compiler.cc:760] The NVIDIA driver's CUDA version is 12.4 which is older than the ptxas CUDA version (12.5.40). Because the driver is older than the ptxas version, XLA is disabling parallel compilation, which may slow down compilation. You should update your NVIDIA driver or use the NVIDIA-provided CUDA forward compatibility packages.\n"
     ]
    }
   ],
   "source": [
    "posteriors = load_posteriors()\n",
    "injections = load_injections()"
   ]
  },
  {
   "cell_type": "markdown",
   "id": "afdf1c8d-a031-43d7-a857-dadedb82430e",
   "metadata": {},
   "source": [
    "## Define the population model"
   ]
  },
  {
   "cell_type": "code",
   "execution_count": 7,
   "id": "12e8c063-06e8-4db1-8606-fb0fde954122",
   "metadata": {},
   "outputs": [],
   "source": [
    "from gwpopulation.models.mass import SinglePeakSmoothedMassDistribution\n",
    "from gwpopulation.models.spin import iid_spin\n",
    "from gwpopulation.models.redshift import PowerLawRedshift\n",
    "from gwpopulation.experimental.jax import NonCachingModel"
   ]
  },
  {
   "cell_type": "code",
   "execution_count": 8,
   "id": "b8dccfce-a3ba-41f9-88fb-67c132a64e3b",
   "metadata": {},
   "outputs": [],
   "source": [
    "def spin_model(dataset, xi_spin, sigma_spin, alpha_chi, beta_chi):\n",
    "    amax = 1.0\n",
    "    return iid_spin(dataset, xi_spin, sigma_spin, amax, alpha_chi, beta_chi)"
   ]
  },
  {
   "cell_type": "code",
   "execution_count": 9,
   "id": "b2db4f12-29cf-4f83-b4f5-9658563b737a",
   "metadata": {},
   "outputs": [],
   "source": [
    "def make_model():\n",
    "    models = [\n",
    "        SinglePeakSmoothedMassDistribution(),\n",
    "        spin_model,\n",
    "        PowerLawRedshift(cosmo_model = 'Planck15'),\n",
    "    ]\n",
    "    return NonCachingModel(models)"
   ]
  },
  {
   "cell_type": "markdown",
   "id": "2694aa9f-a59c-49f0-a7f3-40024c787125",
   "metadata": {},
   "source": [
    "## Defined the population likelihood"
   ]
  },
  {
   "cell_type": "code",
   "execution_count": 10,
   "id": "4cf94b18-a114-40d4-be15-bef829da4883",
   "metadata": {},
   "outputs": [],
   "source": [
    "from gwpopulation.vt import ResamplingVT\n",
    "from gwpopulation.hyperpe import HyperparameterLikelihood"
   ]
  },
  {
   "cell_type": "code",
   "execution_count": 11,
   "id": "8852485a-1efd-41cd-96cc-8e9942665e59",
   "metadata": {},
   "outputs": [],
   "source": [
    "selection_function = ResamplingVT(\n",
    "    model = make_model(),\n",
    "    data = injections,\n",
    "    n_events = len(posteriors),\n",
    "    marginalize_uncertainty = False,\n",
    "    enforce_convergence = False,\n",
    ")"
   ]
  },
  {
   "cell_type": "code",
   "execution_count": 12,
   "id": "45cd34d1-6fee-4faf-a5e8-7455b6044640",
   "metadata": {},
   "outputs": [],
   "source": [
    "likelihood = HyperparameterLikelihood(\n",
    "    posteriors = posteriors,\n",
    "    hyper_prior = make_model(),\n",
    "    selection_function = selection_function,\n",
    "    maximum_uncertainty = xp.inf,\n",
    ")"
   ]
  },
  {
   "cell_type": "markdown",
   "id": "62771a48-8df3-4a4f-9c35-93d9130d7b00",
   "metadata": {},
   "source": [
    "## Variational inference"
   ]
  },
  {
   "cell_type": "code",
   "execution_count": 16,
   "id": "ff9ba03c-b261-4045-b1fe-25697565c557",
   "metadata": {},
   "outputs": [],
   "source": [
    "from gwax.flows import default_flow"
   ]
  },
  {
   "cell_type": "code",
   "execution_count": 18,
   "id": "1eb4efd3-d6fd-4c8b-b0fc-374ec7f940ae",
   "metadata": {},
   "outputs": [],
   "source": [
    "flow = default_flow(jax.random.PRNGKey(0), prior_bounds.values())"
   ]
  },
  {
   "cell_type": "code",
   "execution_count": 25,
   "id": "9f1e5418-2be7-498a-b56a-c6538873996d",
   "metadata": {},
   "outputs": [],
   "source": [
    "import equinox\n",
    "from flowjax.wrappers import NonTrainable"
   ]
  },
  {
   "cell_type": "code",
   "execution_count": 26,
   "id": "4df292fe-9f34-413e-bdaf-84d0238ba1e4",
   "metadata": {},
   "outputs": [],
   "source": [
    "params, static = equinox.partition(\n",
    "    pytree = flow,\n",
    "    filter_spec = equinox.is_inexact_array,\n",
    "    is_leaf = lambda leaf: isinstance(leaf, NonTrainable),\n",
    ")"
   ]
  },
  {
   "cell_type": "code",
   "execution_count": 28,
   "id": "8112ed87-0d8b-4ac0-a48e-b7cc2c0afeb2",
   "metadata": {},
   "outputs": [
    {
     "data": {
      "text/plain": [
       "(Array([ 3.52449962, -1.39407437,  6.18543927, 68.38022515,  0.70118079,\n",
       "        28.98300705,  1.59406214,  6.25878098,  8.59514782,  1.95192068,\n",
       "         0.34938759,  3.20558454, -3.26842975], dtype=float64),\n",
       " Array(-19.21724187, dtype=float64))"
      ]
     },
     "execution_count": 28,
     "metadata": {},
     "output_type": "execute_result"
    }
   ],
   "source": [
    "equinox.combine(params, static).sample_and_log_prob(jax.random.PRNGKey(0))"
   ]
  },
  {
   "cell_type": "code",
   "execution_count": 13,
   "id": "83ea6fff-b453-4cd8-a125-6910bc3d8486",
   "metadata": {},
   "outputs": [],
   "source": [
    "from gwax.variational import trainer"
   ]
  },
  {
   "cell_type": "code",
   "execution_count": 14,
   "id": "8613125c-c53e-4b7a-b177-ffb5b6628ff4",
   "metadata": {},
   "outputs": [],
   "source": [
    "prior_bounds = dict(\n",
    "    alpha = [-4, 12],\n",
    "    beta = [-2, 7],\n",
    "    mmin = [0, 6.5],\n",
    "    mmax = [65, 100],\n",
    "    lam = [0, 1],\n",
    "    mpp = [20, 50],\n",
    "    sigpp = [1, 10],\n",
    "    delta_m = [0, 10],\n",
    "    alpha_chi = [1, 10],\n",
    "    beta_chi = [1, 10],\n",
    "    xi_spin = [0, 1],\n",
    "    sigma_spin = [0.1, 4],\n",
    "    lamb = [-6, 6],\n",
    ")"
   ]
  },
  {
   "cell_type": "code",
   "execution_count": 15,
   "id": "57d15be5-ed95-48e7-ad9a-ba886395d048",
   "metadata": {},
   "outputs": [
    {
     "ename": "AttributeError",
     "evalue": "DynamicJaxprTracer has no attribute sample_and_log_prob",
     "output_type": "error",
     "traceback": [
      "\u001b[0;31m---------------------------------------------------------------------------\u001b[0m",
      "\u001b[0;31mAttributeError\u001b[0m                            Traceback (most recent call last)",
      "File \u001b[0;32m/work/submit/mmould/miniforge3/envs/gpu/lib/python3.10/site-packages/jax/_src/core.py:797\u001b[0m, in \u001b[0;36mTracer.__getattr__\u001b[0;34m(self, name)\u001b[0m\n\u001b[1;32m    796\u001b[0m \u001b[38;5;28;01mtry\u001b[39;00m:\n\u001b[0;32m--> 797\u001b[0m   attr \u001b[38;5;241m=\u001b[39m \u001b[38;5;28;43mgetattr\u001b[39;49m\u001b[43m(\u001b[49m\u001b[38;5;28;43mself\u001b[39;49m\u001b[38;5;241;43m.\u001b[39;49m\u001b[43maval\u001b[49m\u001b[43m,\u001b[49m\u001b[43m \u001b[49m\u001b[43mname\u001b[49m\u001b[43m)\u001b[49m\n\u001b[1;32m    798\u001b[0m \u001b[38;5;28;01mexcept\u001b[39;00m \u001b[38;5;167;01mAttributeError\u001b[39;00m \u001b[38;5;28;01mas\u001b[39;00m err:\n",
      "\u001b[0;31mAttributeError\u001b[0m: 'ShapedArray' object has no attribute 'sample_and_log_prob'",
      "\nThe above exception was the direct cause of the following exception:\n",
      "\u001b[0;31mAttributeError\u001b[0m                            Traceback (most recent call last)",
      "Cell \u001b[0;32mIn[15], line 1\u001b[0m\n\u001b[0;32m----> 1\u001b[0m flow, losses \u001b[38;5;241m=\u001b[39m \u001b[43mtrainer\u001b[49m\u001b[43m(\u001b[49m\n\u001b[1;32m      2\u001b[0m \u001b[43m    \u001b[49m\u001b[43mkey\u001b[49m\u001b[43m \u001b[49m\u001b[38;5;241;43m=\u001b[39;49m\u001b[43m \u001b[49m\u001b[43mjax\u001b[49m\u001b[38;5;241;43m.\u001b[39;49m\u001b[43mrandom\u001b[49m\u001b[38;5;241;43m.\u001b[39;49m\u001b[43mPRNGKey\u001b[49m\u001b[43m(\u001b[49m\u001b[38;5;241;43m42\u001b[39;49m\u001b[43m)\u001b[49m\u001b[43m,\u001b[49m\n\u001b[1;32m      3\u001b[0m \u001b[43m    \u001b[49m\u001b[43mprior_bounds\u001b[49m\u001b[43m \u001b[49m\u001b[38;5;241;43m=\u001b[39;49m\u001b[43m \u001b[49m\u001b[43mprior_bounds\u001b[49m\u001b[43m,\u001b[49m\n\u001b[1;32m      4\u001b[0m \u001b[43m    \u001b[49m\u001b[43mlikelihood\u001b[49m\u001b[43m \u001b[49m\u001b[38;5;241;43m=\u001b[39;49m\u001b[43m \u001b[49m\u001b[43mlikelihood\u001b[49m\u001b[43m,\u001b[49m\n\u001b[1;32m      5\u001b[0m \u001b[43m    \u001b[49m\u001b[43mflow\u001b[49m\u001b[43m \u001b[49m\u001b[38;5;241;43m=\u001b[39;49m\u001b[43m \u001b[49m\u001b[38;5;28;43;01mNone\u001b[39;49;00m\u001b[43m,\u001b[49m\n\u001b[1;32m      6\u001b[0m \u001b[43m    \u001b[49m\u001b[43mbatch_size\u001b[49m\u001b[43m \u001b[49m\u001b[38;5;241;43m=\u001b[39;49m\u001b[43m \u001b[49m\u001b[38;5;241;43m1\u001b[39;49m\u001b[43m,\u001b[49m\n\u001b[1;32m      7\u001b[0m \u001b[43m    \u001b[49m\u001b[43msteps\u001b[49m\u001b[43m \u001b[49m\u001b[38;5;241;43m=\u001b[39;49m\u001b[43m \u001b[49m\u001b[38;5;241;43m1_000\u001b[39;49m\u001b[43m,\u001b[49m\n\u001b[1;32m      8\u001b[0m \u001b[43m    \u001b[49m\u001b[43mlearning_rate\u001b[49m\u001b[43m \u001b[49m\u001b[38;5;241;43m=\u001b[39;49m\u001b[43m \u001b[49m\u001b[38;5;241;43m1e-2\u001b[39;49m\u001b[43m,\u001b[49m\n\u001b[1;32m      9\u001b[0m \u001b[43m    \u001b[49m\u001b[43moptimizer\u001b[49m\u001b[43m \u001b[49m\u001b[38;5;241;43m=\u001b[39;49m\u001b[43m \u001b[49m\u001b[38;5;28;43;01mNone\u001b[39;49;00m\u001b[43m,\u001b[49m\n\u001b[1;32m     10\u001b[0m \u001b[43m    \u001b[49m\u001b[43mtaper\u001b[49m\u001b[43m \u001b[49m\u001b[38;5;241;43m=\u001b[39;49m\u001b[43m \u001b[49m\u001b[38;5;28;43;01mNone\u001b[39;49;00m\u001b[43m,\u001b[49m\n\u001b[1;32m     11\u001b[0m \u001b[43m    \u001b[49m\u001b[43mtemper_schedule\u001b[49m\u001b[43m \u001b[49m\u001b[38;5;241;43m=\u001b[39;49m\u001b[43m \u001b[49m\u001b[38;5;28;43;01mNone\u001b[39;49;00m\u001b[43m,\u001b[49m\n\u001b[1;32m     12\u001b[0m \u001b[43m    \u001b[49m\u001b[43mprint_rate\u001b[49m\u001b[43m \u001b[49m\u001b[38;5;241;43m=\u001b[39;49m\u001b[43m \u001b[49m\u001b[38;5;241;43m1\u001b[39;49m\u001b[43m,\u001b[49m\n\u001b[1;32m     13\u001b[0m \u001b[43m)\u001b[49m\n",
      "File \u001b[0;32m/work/submit/mmould/gwax/gwax/variational.py:99\u001b[0m, in \u001b[0;36mtrainer\u001b[0;34m(key, prior_bounds, likelihood, flow, batch_size, steps, learning_rate, optimizer, taper, temper_schedule, print_rate)\u001b[0m\n\u001b[1;32m     96\u001b[0m     new_params \u001b[38;5;241m=\u001b[39m equinox\u001b[38;5;241m.\u001b[39mapply_updates(params, updates)\n\u001b[1;32m     97\u001b[0m     \u001b[38;5;28;01mreturn\u001b[39;00m (key, params, state), loss\n\u001b[0;32m---> 99\u001b[0m (key, params, state), losses \u001b[38;5;241m=\u001b[39m \u001b[43mjax\u001b[49m\u001b[38;5;241;43m.\u001b[39;49m\u001b[43mlax\u001b[49m\u001b[38;5;241;43m.\u001b[39;49m\u001b[43mscan\u001b[49m\u001b[43m(\u001b[49m\n\u001b[1;32m    100\u001b[0m \u001b[43m    \u001b[49m\u001b[43mupdate\u001b[49m\u001b[43m,\u001b[49m\u001b[43m \u001b[49m\u001b[43m(\u001b[49m\u001b[43mkey\u001b[49m\u001b[43m,\u001b[49m\u001b[43m \u001b[49m\u001b[43mparams\u001b[49m\u001b[43m,\u001b[49m\u001b[43m \u001b[49m\u001b[43mstate\u001b[49m\u001b[43m)\u001b[49m\u001b[43m,\u001b[49m\u001b[43m \u001b[49m\u001b[43mjnp\u001b[49m\u001b[38;5;241;43m.\u001b[39;49m\u001b[43marange\u001b[49m\u001b[43m(\u001b[49m\u001b[43msteps\u001b[49m\u001b[43m)\u001b[49m\u001b[43m,\u001b[49m\n\u001b[1;32m    101\u001b[0m \u001b[43m\u001b[49m\u001b[43m)\u001b[49m\n\u001b[1;32m    102\u001b[0m flow \u001b[38;5;241m=\u001b[39m equinox\u001b[38;5;241m.\u001b[39mcombine(params, static)\n\u001b[1;32m    104\u001b[0m \u001b[38;5;28;01mreturn\u001b[39;00m flow, losses\n",
      "    \u001b[0;31m[... skipping hidden 9 frame]\u001b[0m\n",
      "File \u001b[0;32m/work/submit/mmould/miniforge3/envs/gpu/lib/python3.10/site-packages/jax_tqdm/pbar.py:47\u001b[0m, in \u001b[0;36mscan_tqdm.<locals>._scan_tqdm.<locals>.wrapper_progress_bar\u001b[0;34m(carry, x)\u001b[0m\n\u001b[1;32m     45\u001b[0m     iter_num \u001b[38;5;241m=\u001b[39m x\n\u001b[1;32m     46\u001b[0m _update_progress_bar(iter_num)\n\u001b[0;32m---> 47\u001b[0m result \u001b[38;5;241m=\u001b[39m \u001b[43mfunc\u001b[49m\u001b[43m(\u001b[49m\u001b[43mcarry\u001b[49m\u001b[43m,\u001b[49m\u001b[43m \u001b[49m\u001b[43mx\u001b[49m\u001b[43m)\u001b[49m\n\u001b[1;32m     48\u001b[0m \u001b[38;5;28;01mreturn\u001b[39;00m close_tqdm(result, iter_num)\n",
      "    \u001b[0;31m[... skipping hidden 15 frame]\u001b[0m\n",
      "File \u001b[0;32m/work/submit/mmould/gwax/gwax/variational.py:94\u001b[0m, in \u001b[0;36mtrainer.<locals>.update\u001b[0;34m(carry, step)\u001b[0m\n\u001b[1;32m     92\u001b[0m key, params, state \u001b[38;5;241m=\u001b[39m carry\n\u001b[1;32m     93\u001b[0m new_key, key \u001b[38;5;241m=\u001b[39m jax\u001b[38;5;241m.\u001b[39mrandom\u001b[38;5;241m.\u001b[39msplit(key)\n\u001b[0;32m---> 94\u001b[0m loss, grad \u001b[38;5;241m=\u001b[39m \u001b[43mloss_and_grad\u001b[49m\u001b[43m(\u001b[49m\u001b[43mkey\u001b[49m\u001b[43m,\u001b[49m\u001b[43m \u001b[49m\u001b[43mparams\u001b[49m\u001b[43m,\u001b[49m\u001b[43m \u001b[49m\u001b[43mstep\u001b[49m\u001b[43m)\u001b[49m\n\u001b[1;32m     95\u001b[0m updates, state \u001b[38;5;241m=\u001b[39m optimizer\u001b[38;5;241m.\u001b[39mupdate(grad, state, params)\n\u001b[1;32m     96\u001b[0m new_params \u001b[38;5;241m=\u001b[39m equinox\u001b[38;5;241m.\u001b[39mapply_updates(params, updates)\n",
      "    \u001b[0;31m[... skipping hidden 10 frame]\u001b[0m\n",
      "File \u001b[0;32m/work/submit/mmould/gwax/gwax/variational.py:80\u001b[0m, in \u001b[0;36mtrainer.<locals>.loss_and_grad\u001b[0;34m(params, key, step)\u001b[0m\n\u001b[1;32m     78\u001b[0m flow \u001b[38;5;241m=\u001b[39m equinox\u001b[38;5;241m.\u001b[39mcombine(params, static)\n\u001b[1;32m     79\u001b[0m temper \u001b[38;5;241m=\u001b[39m temper_schedule(step)\n\u001b[0;32m---> 80\u001b[0m \u001b[38;5;28;01mreturn\u001b[39;00m \u001b[43mreverse_loss\u001b[49m\u001b[43m(\u001b[49m\u001b[43mkey\u001b[49m\u001b[43m,\u001b[49m\u001b[43m \u001b[49m\u001b[43mbatch_size\u001b[49m\u001b[43m,\u001b[49m\u001b[43m \u001b[49m\u001b[43mflow\u001b[49m\u001b[43m,\u001b[49m\u001b[43m \u001b[49m\u001b[43mlog_target\u001b[49m\u001b[43m,\u001b[49m\u001b[43m \u001b[49m\u001b[43mtemper\u001b[49m\u001b[43m)\u001b[49m\n",
      "File \u001b[0;32m/work/submit/mmould/gwax/gwax/variational.py:35\u001b[0m, in \u001b[0;36mreverse_loss\u001b[0;34m(key, batch_size, flow, log_target, temper)\u001b[0m\n\u001b[1;32m     34\u001b[0m \u001b[38;5;28;01mdef\u001b[39;00m \u001b[38;5;21mreverse_loss\u001b[39m(key, batch_size, flow, log_target, temper \u001b[38;5;241m=\u001b[39m \u001b[38;5;241m1.0\u001b[39m):\n\u001b[0;32m---> 35\u001b[0m     samples, log_flows \u001b[38;5;241m=\u001b[39m \u001b[43mflow\u001b[49m\u001b[38;5;241;43m.\u001b[39;49m\u001b[43msample_and_log_prob\u001b[49m(key, (batch_size,))\n\u001b[1;32m     36\u001b[0m     log_targets \u001b[38;5;241m=\u001b[39m log_target(samples) \u001b[38;5;241m*\u001b[39m temper\n\u001b[1;32m     37\u001b[0m     \u001b[38;5;28;01mreturn\u001b[39;00m jnp\u001b[38;5;241m.\u001b[39mmean(log_flows \u001b[38;5;241m-\u001b[39m log_targets)\n",
      "File \u001b[0;32m/work/submit/mmould/miniforge3/envs/gpu/lib/python3.10/site-packages/jax/_src/core.py:799\u001b[0m, in \u001b[0;36mTracer.__getattr__\u001b[0;34m(self, name)\u001b[0m\n\u001b[1;32m    797\u001b[0m   attr \u001b[38;5;241m=\u001b[39m \u001b[38;5;28mgetattr\u001b[39m(\u001b[38;5;28mself\u001b[39m\u001b[38;5;241m.\u001b[39maval, name)\n\u001b[1;32m    798\u001b[0m \u001b[38;5;28;01mexcept\u001b[39;00m \u001b[38;5;167;01mAttributeError\u001b[39;00m \u001b[38;5;28;01mas\u001b[39;00m err:\n\u001b[0;32m--> 799\u001b[0m   \u001b[38;5;28;01mraise\u001b[39;00m \u001b[38;5;167;01mAttributeError\u001b[39;00m(\n\u001b[1;32m    800\u001b[0m       \u001b[38;5;124mf\u001b[39m\u001b[38;5;124m\"\u001b[39m\u001b[38;5;132;01m{\u001b[39;00m\u001b[38;5;28mself\u001b[39m\u001b[38;5;241m.\u001b[39m\u001b[38;5;18m__class__\u001b[39m\u001b[38;5;241m.\u001b[39m\u001b[38;5;18m__name__\u001b[39m\u001b[38;5;132;01m}\u001b[39;00m\u001b[38;5;124m has no attribute \u001b[39m\u001b[38;5;132;01m{\u001b[39;00mname\u001b[38;5;132;01m}\u001b[39;00m\u001b[38;5;124m\"\u001b[39m\n\u001b[1;32m    801\u001b[0m   ) \u001b[38;5;28;01mfrom\u001b[39;00m \u001b[38;5;21;01merr\u001b[39;00m\n\u001b[1;32m    802\u001b[0m \u001b[38;5;28;01melse\u001b[39;00m:\n\u001b[1;32m    803\u001b[0m   t \u001b[38;5;241m=\u001b[39m \u001b[38;5;28mtype\u001b[39m(attr)\n",
      "\u001b[0;31mAttributeError\u001b[0m: DynamicJaxprTracer has no attribute sample_and_log_prob"
     ]
    }
   ],
   "source": [
    "flow, losses = trainer(\n",
    "    key = jax.random.PRNGKey(42),\n",
    "    prior_bounds = prior_bounds,\n",
    "    likelihood = likelihood,\n",
    "    flow = None,\n",
    "    batch_size = 1,\n",
    "    steps = 1_000,\n",
    "    learning_rate = 1e-2,\n",
    "    optimizer = None,\n",
    "    taper = None,\n",
    "    temper_schedule = None,\n",
    "    print_rate = 1,\n",
    ")"
   ]
  },
  {
   "cell_type": "code",
   "execution_count": null,
   "id": "3c0007e6-b82d-4805-99e3-a33fc2db85d5",
   "metadata": {},
   "outputs": [],
   "source": []
  }
 ],
 "metadata": {
  "kernelspec": {
   "display_name": "gpu",
   "language": "python",
   "name": "gpu"
  },
  "language_info": {
   "codemirror_mode": {
    "name": "ipython",
    "version": 3
   },
   "file_extension": ".py",
   "mimetype": "text/x-python",
   "name": "python",
   "nbconvert_exporter": "python",
   "pygments_lexer": "ipython3",
   "version": "3.10.14"
  }
 },
 "nbformat": 4,
 "nbformat_minor": 5
}
