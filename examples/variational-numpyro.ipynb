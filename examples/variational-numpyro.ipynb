{
 "cells": [
  {
   "cell_type": "code",
   "execution_count": 1,
   "id": "221acb8b-3530-4c19-a2b2-202e7b8d47f1",
   "metadata": {},
   "outputs": [],
   "source": [
    "import numpy as np\n",
    "import pandas\n",
    "import h5py\n",
    "import matplotlib.pyplot as plt\n",
    "from corner import corner"
   ]
  },
  {
   "cell_type": "code",
   "execution_count": 2,
   "id": "ad9ad8da-554b-4185-bceb-900642c96fd4",
   "metadata": {},
   "outputs": [],
   "source": [
    "import os\n",
    "os.environ['CUDA_VISIBLE_DEVICES'] = '0'\n",
    "\n",
    "import jax\n",
    "jax.config.update('jax_enable_x64', True)\n",
    "import jax.numpy as jnp\n",
    "import numpyro\n",
    "\n",
    "import bilby\n",
    "import gwpopulation\n",
    "gwpopulation.set_backend('jax')"
   ]
  },
  {
   "cell_type": "code",
   "execution_count": 3,
   "id": "1db11ba8-bb09-4078-9e4f-353e1316a43f",
   "metadata": {},
   "outputs": [
    {
     "data": {
      "text/plain": [
       "[cuda(id=0)]"
      ]
     },
     "execution_count": 3,
     "metadata": {},
     "output_type": "execute_result"
    }
   ],
   "source": [
    "jax.devices()"
   ]
  },
  {
   "cell_type": "markdown",
   "id": "20e63df0-79d5-4876-8d23-6b0db5f7488b",
   "metadata": {},
   "source": [
    "## Load the data"
   ]
  },
  {
   "cell_type": "code",
   "execution_count": 4,
   "id": "9f610bcc-70f1-4736-bf51-547807429885",
   "metadata": {},
   "outputs": [],
   "source": [
    "def load_posteriors():\n",
    "    posteriors = []\n",
    "    \n",
    "    with h5py.File(\n",
    "        './o1o2o3_mass_c_iid_mag_iid_tilt_powerlaw_redshift_samples.hdf5', 'r',\n",
    "    ) as f:\n",
    "\n",
    "        samples = f['original']\n",
    "        num_obs, num_samples = samples['a_1'].shape\n",
    "        \n",
    "        for n in range(num_obs):\n",
    "            posterior = pandas.DataFrame()\n",
    "            for par in samples:\n",
    "                posterior[par] = samples[par][n, :]\n",
    "\n",
    "            posteriors.append(posterior)\n",
    "    \n",
    "    return posteriors"
   ]
  },
  {
   "cell_type": "code",
   "execution_count": 5,
   "id": "f8141967-d4a6-402d-8dca-43ee98c68447",
   "metadata": {},
   "outputs": [],
   "source": [
    "def load_injections():\n",
    "    cut_far = 1.0\n",
    "    cut_snr = 10.0\n",
    "    \n",
    "    injections = {}\n",
    "    \n",
    "    with h5py.File(\n",
    "        './o1+o2+o3_bbhpop_real+semianalytic-LIGO-T2100377-v2.hdf5', 'r',\n",
    "    ) as f:\n",
    "        samples = f['injections']\n",
    "    \n",
    "        ifars = [\n",
    "            samples[par][:] for par in samples.keys()\n",
    "            if ('ifar' in par) and ('cwb' not in par)\n",
    "            ]\n",
    "        ifar = np.max(ifars, axis=0)\n",
    "        snr = samples['optimal_snr_net'][:]\n",
    "        runs = samples['name'][:].astype(str)\n",
    "        found = np.where(runs == 'o3', ifar > 1/cut_far, snr > cut_snr)\n",
    "    \n",
    "        mass_1 = samples['mass1_source'][:][found]\n",
    "        mass_2 = samples['mass2_source'][:][found]\n",
    "        spin1x = samples['spin1x'][:][found]\n",
    "        spin1y = samples['spin1y'][:][found]\n",
    "        spin1z = samples['spin1z'][:][found]\n",
    "        spin2x = samples['spin2x'][:][found]\n",
    "        spin2y = samples['spin2y'][:][found]\n",
    "        spin2z = samples['spin2z'][:][found]\n",
    "        redshift = samples['redshift'][:][found]\n",
    "    \n",
    "        mass_ratio = mass_2 / mass_1\n",
    "        a_1 = (spin1x**2 + spin1y**2 + spin1z**2)**.5\n",
    "        a_2 = (spin2x**2 + spin2y**2 + spin2z**2)**.5\n",
    "        cos_tilt_1 = spin1z / a_1\n",
    "        cos_tilt_2 = spin2z / a_2\n",
    "    \n",
    "        injections['mass_1'] = mass_1\n",
    "        injections['mass_ratio'] = mass_ratio\n",
    "        injections['a_1'] = a_1\n",
    "        injections['a_2'] = a_2\n",
    "        injections['cos_tilt_1'] = cos_tilt_1\n",
    "        injections['cos_tilt_2'] = cos_tilt_2\n",
    "        injections['redshift'] = redshift\n",
    "    \n",
    "        prior = samples['sampling_pdf'][:][found]\n",
    "        prior *= mass_1 * 4 * np.pi**2 * a_1**2 * a_2**2\n",
    "        injections['prior'] = prior\n",
    "    \n",
    "        dodgy = injections['redshift'] > 1.9\n",
    "        for par in injections:\n",
    "            injections[par] = injections[par][~dodgy]\n",
    "    \n",
    "        injections['total_generated'] = samples.attrs['total_generated']\n",
    "    \n",
    "    for par in injections:\n",
    "        injections[par] = jnp.array(injections[par])\n",
    "    \n",
    "    return injections"
   ]
  },
  {
   "cell_type": "markdown",
   "id": "f42d1d53-c3ba-4f3b-9209-a325aae9f4d0",
   "metadata": {},
   "source": [
    "## Define the population model"
   ]
  },
  {
   "cell_type": "code",
   "execution_count": 6,
   "id": "b9486aa4-8701-4617-beef-5d4c68d22c2b",
   "metadata": {},
   "outputs": [],
   "source": [
    "from gwpopulation.models.mass import SinglePeakSmoothedMassDistribution\n",
    "from gwpopulation.models.spin import iid_spin\n",
    "from gwpopulation.models.redshift import PowerLawRedshift\n",
    "from gwpopulation.experimental.jax import NonCachingModel"
   ]
  },
  {
   "cell_type": "code",
   "execution_count": 7,
   "id": "846c2f91-3ce8-4b47-becd-8beef5776a6d",
   "metadata": {},
   "outputs": [],
   "source": [
    "def spin_model(dataset, xi_spin, sigma_spin, alpha_chi, beta_chi):\n",
    "    amax = 1.0\n",
    "    return iid_spin(dataset, xi_spin, sigma_spin, amax, alpha_chi, beta_chi)"
   ]
  },
  {
   "cell_type": "code",
   "execution_count": 8,
   "id": "33fc4080-6712-414f-85cf-eaa539863b79",
   "metadata": {},
   "outputs": [],
   "source": [
    "def make_model():\n",
    "    models = [\n",
    "        SinglePeakSmoothedMassDistribution(),\n",
    "        spin_model,\n",
    "        PowerLawRedshift(cosmo_model = 'Planck15'),\n",
    "    ]\n",
    "    return NonCachingModel(models)"
   ]
  },
  {
   "cell_type": "markdown",
   "id": "a984ec99-d407-4d27-8a22-b1b73e5c00d7",
   "metadata": {},
   "source": [
    "## Define the population likelihood"
   ]
  },
  {
   "cell_type": "code",
   "execution_count": 9,
   "id": "b53bc665-28a7-4038-aaf5-99c5e805e7a4",
   "metadata": {},
   "outputs": [],
   "source": [
    "from gwpopulation.vt import ResamplingVT\n",
    "from gwpopulation.hyperpe import HyperparameterLikelihood"
   ]
  },
  {
   "cell_type": "code",
   "execution_count": 10,
   "id": "0730d681-0dfb-473b-97d7-1ef676898fff",
   "metadata": {},
   "outputs": [],
   "source": [
    "selection_function = ResamplingVT(\n",
    "    model = make_model(),\n",
    "    data = load_injections(),\n",
    "    n_events = len(load_posteriors()),\n",
    "    marginalize_uncertainty = False,\n",
    "    enforce_convergence = False,\n",
    ")"
   ]
  },
  {
   "cell_type": "code",
   "execution_count": 11,
   "id": "c8077050-d1f4-4096-9a93-5d41254b0b26",
   "metadata": {},
   "outputs": [],
   "source": [
    "likelihood = HyperparameterLikelihood(\n",
    "    posteriors = load_posteriors(),\n",
    "    hyper_prior = make_model(),\n",
    "    selection_function = selection_function,\n",
    "    maximum_uncertainty = jnp.inf,\n",
    ")"
   ]
  },
  {
   "cell_type": "markdown",
   "id": "501501eb-381b-4e61-8671-7db4e751f128",
   "metadata": {},
   "source": [
    "## Define the prior"
   ]
  },
  {
   "cell_type": "code",
   "execution_count": 12,
   "id": "6831400e-3b92-493c-9ecc-6524232548e1",
   "metadata": {},
   "outputs": [],
   "source": [
    "priors = bilby.prior.PriorDict()\n",
    "priors['alpha'] = bilby.prior.Uniform(-4, 12)\n",
    "priors['beta'] = bilby.prior.Uniform(-2, 7)\n",
    "priors['mmin'] = bilby.prior.Uniform(6.5, 10)\n",
    "priors['mmax'] = bilby.prior.Uniform(65, 100)\n",
    "priors['lam'] = bilby.prior.Uniform(0, 1)\n",
    "priors['mpp'] = bilby.prior.Uniform(20, 50)\n",
    "priors['sigpp'] = bilby.prior.Uniform(1, 10)\n",
    "priors['delta_m'] = bilby.prior.Uniform(0, 10)\n",
    "priors['lamb'] = bilby.prior.Uniform(-6, 6)\n",
    "priors['alpha_chi'] = bilby.prior.Uniform(1, 10)\n",
    "priors['beta_chi'] = bilby.prior.Uniform(1, 10)\n",
    "priors['xi_spin'] = bilby.prior.Uniform(0, 1)\n",
    "priors['sigma_spin'] = bilby.prior.Uniform(0.1, 4)"
   ]
  },
  {
   "cell_type": "markdown",
   "id": "b335032f-6292-452a-a9cf-de1324346116",
   "metadata": {},
   "source": [
    "## Variational inference with numpyro and gwpopulation"
   ]
  },
  {
   "cell_type": "code",
   "execution_count": 13,
   "id": "ed69995b-0c22-4b87-b26e-58243d559d05",
   "metadata": {},
   "outputs": [],
   "source": [
    "from gwpopulation.experimental.numpyro import construct_numpyro_model"
   ]
  },
  {
   "cell_type": "code",
   "execution_count": 14,
   "id": "a95d3dd9-39ab-4452-a4bd-70e68a7aef59",
   "metadata": {},
   "outputs": [],
   "source": [
    "model = construct_numpyro_model(likelihood, priors)"
   ]
  },
  {
   "cell_type": "code",
   "execution_count": 24,
   "id": "f3f44df3-f1c1-45c7-b77f-1f141982e07a",
   "metadata": {},
   "outputs": [],
   "source": [
    "# guide = numpyro.infer.autoguide.AutoNormal(model)\n",
    "guide = numpyro.infer.autoguide.AutoBNAFNormal(\n",
    "    model, num_flows = 1, hidden_factors = [8],\n",
    ")\n",
    "optim = numpyro.optim.Adam(step_size = 1e-2)\n",
    "loss = numpyro.infer.Trace_ELBO(num_particles = 1, vectorize_particles = True)\n",
    "svi = numpyro.infer.SVI(model, guide, optim, loss)"
   ]
  },
  {
   "cell_type": "code",
   "execution_count": 25,
   "id": "4d2c8cc6-b644-4a0a-9e92-6dbabbfe77ad",
   "metadata": {},
   "outputs": [
    {
     "name": "stderr",
     "output_type": "stream",
     "text": [
      "100%|█| 100/100 [00:20<00:00,  4.82it/s, init loss: 179769313486231570814527423731704356798070567525\n"
     ]
    }
   ],
   "source": [
    "result = svi.run(jax.random.PRNGKey(0), num_steps = 100, progress_bar = True)"
   ]
  },
  {
   "cell_type": "code",
   "execution_count": 26,
   "id": "af05d279-d991-429a-93f6-c56c76f65dad",
   "metadata": {},
   "outputs": [
    {
     "name": "stderr",
     "output_type": "stream",
     "text": [
      "/home/matthew.mould/.conda/envs/gpu/lib/python3.10/site-packages/matplotlib/axes/_base.py:2991: RuntimeWarning: overflow encountered in scalar add\n",
      "  x0, x1 = inverse_trans.transform([x0t - delta, x1t + delta])\n"
     ]
    },
    {
     "data": {
      "image/png": "[encoded data removed]",
      "text/plain": [
       "<Figure size 640x480 with 1 Axes>"
      ]
     },
     "metadata": {},
     "output_type": "display_data"
    }
   ],
   "source": [
    "plt.plot(np.nan_to_num(result.losses));"
   ]
  },
  {
   "cell_type": "code",
   "execution_count": 27,
   "id": "489dc186-d5a8-44d1-995b-00752b19ed1c",
   "metadata": {},
   "outputs": [],
   "source": [
    "predictive = numpyro.infer.Predictive(\n",
    "    guide, params = result.params, num_samples = 1_000,\n",
    ")\n",
    "samples_scaled = predictive(jax.random.PRNGKey(1))"
   ]
  },
  {
   "cell_type": "code",
   "execution_count": 28,
   "id": "0210af4f-c585-4251-9dd7-69a060c9e533",
   "metadata": {},
   "outputs": [
    {
     "name": "stdout",
     "output_type": "stream",
     "text": [
      "dict_keys(['_auto_latent', 'alpha_chi_scaled', 'alpha_scaled', 'beta_chi_scaled', 'beta_scaled', 'delta_m_scaled', 'lam_scaled', 'lamb_scaled', 'mmax_scaled', 'mmin_scaled', 'mpp_scaled', 'sigma_spin_scaled', 'sigpp_scaled', 'xi_spin_scaled'])\n"
     ]
    }
   ],
   "source": [
    "print(samples_scaled.keys())"
   ]
  },
  {
   "cell_type": "code",
   "execution_count": 29,
   "id": "8820c934-9d59-403c-ba7d-2c9ba3636acc",
   "metadata": {},
   "outputs": [],
   "source": [
    "from gwpopulation.experimental.numpyro import bilby_to_numpyro_priors"
   ]
  },
  {
   "cell_type": "code",
   "execution_count": 30,
   "id": "14c9dc52-1968-41f3-baa3-cc1ef0371b25",
   "metadata": {},
   "outputs": [],
   "source": [
    "def rescale(samples_scaled, priors):\n",
    "    if isinstance(priors, bilby.prior.PriorDict):\n",
    "        priors = bilby_to_numpyro_priors(priors)\n",
    "    samples = {}\n",
    "    base = numpyro.distributions.Normal(0, 1)\n",
    "    for key, prior in priors.items():\n",
    "        samples[key] = prior.icdf(base.cdf(samples_scaled[f'{key}_scaled']))\n",
    "    return samples"
   ]
  },
  {
   "cell_type": "code",
   "execution_count": 31,
   "id": "519aba35-0577-4aea-a8b9-e38d25746642",
   "metadata": {},
   "outputs": [],
   "source": [
    "samples = rescale(samples_scaled, priors)"
   ]
  },
  {
   "cell_type": "code",
   "execution_count": 32,
   "id": "64edcf38-764a-4cd3-8b38-f5b5df1247c2",
   "metadata": {},
   "outputs": [
    {
     "name": "stdout",
     "output_type": "stream",
     "text": [
      "dict_keys(['alpha', 'beta', 'mmin', 'mmax', 'lam', 'mpp', 'sigpp', 'delta_m', 'lamb', 'alpha_chi', 'beta_chi', 'xi_spin', 'sigma_spin'])\n"
     ]
    }
   ],
   "source": [
    "print(samples.keys())"
   ]
  },
  {
   "cell_type": "code",
   "execution_count": null,
   "id": "603ef6c4-3346-43e1-a117-da2096bdcc40",
   "metadata": {},
   "outputs": [],
   "source": []
  }
 ],
 "metadata": {
  "kernelspec": {
   "display_name": "gpu",
   "language": "python",
   "name": "gpu"
  },
  "language_info": {
   "codemirror_mode": {
    "name": "ipython",
    "version": 3
   },
   "file_extension": ".py",
   "mimetype": "text/x-python",
   "name": "python",
   "nbconvert_exporter": "python",
   "pygments_lexer": "ipython3",
   "version": "3.10.14"
  }
 },
 "nbformat": 4,
 "nbformat_minor": 5
}
